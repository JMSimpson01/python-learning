{
 "cells": [
  {
   "cell_type": "code",
   "execution_count": null,
   "id": "8e08e102",
   "metadata": {},
   "outputs": [
    {
     "name": "stdout",
     "output_type": "stream",
     "text": [
      "True\n",
      "False\n",
      "True\n",
      "Total: $13.00\n",
      "True\n",
      "After discount: $10.40\n"
     ]
    }
   ],
   "source": [
    "# Write your code here:\n",
    "def add_item(cart, item_name, price, quantity): \n",
    "    # Your code here \n",
    "    if price <= 0 or quantity <= 0: \n",
    "        return False \n",
    "    if item_name in cart: \n",
    "        cart[item_name]['quantity'] += quantity \n",
    "    else: \n",
    "        cart[item_name] = {'price': price, 'quantity': quantity} \n",
    "    return True \n",
    "\n",
    "def calculate_total(cart): \n",
    "    if not cart: \n",
    "        return 0 \n",
    "    return sum(item['price'] * item['quantity'] for item in cart.values()) \n",
    "\n",
    "def apply_discount(cart, discount_percent): \n",
    "    if not (0 <= discount_percent <= 100): \n",
    "        return False \n",
    "    for item in cart.values(): \n",
    "        item['price'] *= (1 - discount_percent / 100) \n",
    "    return True\n",
    "\n",
    "# Test your functions\n",
    "cart = {} \n",
    "# Test adding items \n",
    "print(add_item(cart, \"Milk\", 3.50, 2))      \n",
    "print(add_item(cart, \"Eggs\", -1.00, 1))     \n",
    "print(add_item(cart, \"Bread\", 2.00, 3))     \n",
    "# Test total \n",
    "print(f\"Total: ${calculate_total(cart):.2f}\") \n",
    "# Test discount \n",
    "print(apply_discount(cart, 20))  # 20% off \n",
    "print(f\"After discount: ${calculate_total(cart):.2f}\") "
   ]
  },
  {
   "cell_type": "code",
   "execution_count": null,
   "id": "ba065bcb",
   "metadata": {},
   "outputs": [
    {
     "name": "stdout",
     "output_type": "stream",
     "text": [
      "Original scores:\n",
      " [[96 67 78 88]\n",
      " [90 67 97 70]\n",
      " [85 79 93 60]\n",
      " [85 87 86 69]\n",
      " [98 69 98 82]\n",
      " [68 98 68 67]]\n",
      "\n",
      "Struggling students (avg < 75): [False False False False False False]\n",
      "\n",
      "Curved scores:\n",
      " [[100  72  83  93]\n",
      " [ 95  72 100  75]\n",
      " [ 90  84  98  65]\n",
      " [ 90  92  91  74]\n",
      " [100  74 100  87]\n",
      " [ 73 100  73  72]]\n",
      "exam_0: mean=87.0, max=98, min=68\n",
      "exam_1: mean=77.8, max=98, min=67\n",
      "exam_2: mean=86.7, max=98, min=68\n",
      "exam_3: mean=72.7, max=88, min=60\n"
     ]
    }
   ],
   "source": [
    "import numpy as np\n",
    " # Write your code here:\n",
    "def create_score_array(num_students, num_exams): \n",
    "    return np.random.randint(60, 101, size=(num_students, num_exams)) \n",
    "def find_struggling_students(scores, threshold): \n",
    "    return np.mean(scores, axis=1) < threshold\n",
    "def curve_scores(scores, points): \n",
    "    curved = scores + points\n",
    "    return np.minimum(curved, 100)\n",
    "def get_exam_statistics(scores): \n",
    "    stats = {}\n",
    "    for i in range(scores.shape[1]):\n",
    "        stats[f\"exam_{i}\"] = {\n",
    "            \"mean\": np.mean(scores[:, i]),\n",
    "            \"max\": np.max(scores[:, i]),\n",
    "            \"min\": np.min(scores[:, i])\n",
    "        }\n",
    "    return stats\n",
    "# Test your functions\n",
    "# Create test scores \n",
    "scores = create_score_array(6, 4)  # 6 students, 4 exams \n",
    "print(\"Original scores:\\n\", scores) \n",
    "# Find struggling students (average < 75) \n",
    "struggling = find_struggling_students(scores, 75) \n",
    "print(f\"\\nStruggling students (avg < 75): {struggling}\") \n",
    "# Curve scores by 5 points \n",
    "curved = curve_scores(scores, 5) \n",
    "print(\"\\nCurved scores:\\n\", curved) \n",
    "# Get statistics \n",
    "stats = get_exam_statistics(scores) \n",
    "for exam, data in stats.items(): \n",
    "    print(f\"{exam}: mean={data['mean']:.1f}, max={data['max']}, min={data['min']}\")"
   ]
  },
  {
   "cell_type": "code",
   "execution_count": null,
   "id": "35b2280c",
   "metadata": {},
   "outputs": [
    {
     "name": "stdout",
     "output_type": "stream",
     "text": [
      "Clubs: {'Math': {'Bob', 'Alice'}, 'Science': {'Charlie', 'Alice'}, 'Art': {'David'}}\n",
      "In multiple clubs: {'Alice'}\n",
      "Math only: {'Bob'}\n",
      "True\n",
      "After merge: {'Math': {'Bob', 'Alice'}, 'Science': {'Charlie', 'Alice'}, 'Art': {'David', 'Eve'}}\n"
     ]
    }
   ],
   "source": [
    "# Write your code here:\n",
    "def add_student_to_club(clubs_dict, club_name, student_name): \n",
    "    if club_name not in clubs_dict:\n",
    "        clubs_dict[club_name] = set()\n",
    "    clubs_dict[club_name].add(student_name)\n",
    "\n",
    "def get_students_in_multiple_clubs(clubs_dict): \n",
    "    student_club_count = {}\n",
    "    for members in clubs_dict.values():\n",
    "        for student in members:\n",
    "            if student in student_club_count:\n",
    "                student_club_count[student] += 1\n",
    "            else:\n",
    "                student_club_count[student] = 1\n",
    "    return {student for student, count in student_club_count.items() if count >= 2} \n",
    "\n",
    "def find_exclusive_members(clubs_dict, club1_name, club2_name): \n",
    "    if club1_name not in clubs_dict or club2_name not in clubs_dict:\n",
    "        return set()\n",
    "    return clubs_dict[club1_name] - clubs_dict[club2_name]\n",
    "\n",
    "# Bonus Question\n",
    "def merge_clubs(clubs_dict, old_club, new_club):\n",
    "    if old_club not in clubs_dict:\n",
    "        return False\n",
    "    if new_club not in clubs_dict:\n",
    "        clubs_dict[new_club] = set()\n",
    "    clubs_dict[new_club].update(clubs_dict[old_club])\n",
    "    del clubs_dict[old_club]\n",
    "    return True\n",
    "\n",
    "# Test your functions\n",
    "clubs = {} \n",
    "# Add students to clubs \n",
    "add_student_to_club(clubs, \"Math\", \"Alice\") \n",
    "add_student_to_club(clubs, \"Math\", \"Bob\") \n",
    "add_student_to_club(clubs, \"Science\", \"Alice\") \n",
    "add_student_to_club(clubs, \"Science\", \"Charlie\") \n",
    "add_student_to_club(clubs, \"Art\", \"David\") \n",
    "print(\"Clubs:\", clubs) \n",
    "print(\"In multiple clubs:\", get_students_in_multiple_clubs(clubs)) \n",
    "print(\"Math only:\", find_exclusive_members(clubs, \"Math\", \"Science\"))\n",
    "add_student_to_club(clubs, \"Photography\", \"Eve\") \n",
    "print(merge_clubs(clubs, \"Photography\", \"Art\")) \n",
    "print(\"After merge:\", clubs)"
   ]
  }
 ],
 "metadata": {
  "kernelspec": {
   "display_name": "Python 3",
   "language": "python",
   "name": "python3"
  },
  "language_info": {
   "codemirror_mode": {
    "name": "ipython",
    "version": 3
   },
   "file_extension": ".py",
   "mimetype": "text/x-python",
   "name": "python",
   "nbconvert_exporter": "python",
   "pygments_lexer": "ipython3",
   "version": "3.13.7"
  }
 },
 "nbformat": 4,
 "nbformat_minor": 5
}
